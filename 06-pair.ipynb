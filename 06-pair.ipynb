{
 "cells": [
  {
   "cell_type": "markdown",
   "metadata": {},
   "source": [
    "# Ejercicios gestión de nulos\n",
    "\n",
    "El objetivo del ejercicio es identificar las columnas que contienen valores nulos y aplicar un proceso de imputación para manejarlos de manera adecuada.\n"
   ]
  },
  {
   "cell_type": "code",
   "execution_count": 1,
   "metadata": {},
   "outputs": [],
   "source": [
    "# importamos las librerías que necesitamos\n",
    "\n",
    "# Tratamiento de datos\n",
    "# -----------------------------------------------------------------------\n",
    "import pandas as pd\n",
    "import numpy as np\n",
    "\n",
    "# Librerías de visualización\n",
    "# -----------------------------------------------------------------------\n",
    "import seaborn as sns\n",
    "import matplotlib.pyplot as plt\n",
    "\n",
    "# Configuración\n",
    "# -----------------------------------------------------------------------\n",
    "pd.set_option('display.max_columns', None) # para poder visualizar todas las columnas de los DataFrames"
   ]
  },
  {
   "cell_type": "code",
   "execution_count": 2,
   "metadata": {},
   "outputs": [],
   "source": [
    "# Imputación de nulos usando métodos avanzados estadísticos\n",
    "# -----------------------------------------------------------------------\n",
    "from sklearn.impute import SimpleImputer\n",
    "from sklearn.experimental import enable_iterative_imputer\n",
    "from sklearn.impute import IterativeImputer\n",
    "from sklearn.impute import KNNImputer"
   ]
  },
  {
   "cell_type": "markdown",
   "metadata": {},
   "source": [
    "Instrucciones:\n",
    "\n",
    "1. Identificación de Valores Nulos: Identifica todas las columnas que contengan valores nulos en el DataFrame."
   ]
  },
  {
   "cell_type": "code",
   "execution_count": 12,
   "metadata": {},
   "outputs": [],
   "source": [
    "df = pd.read_csv('world_data_full_apply.csv', index_col = 0)"
   ]
  },
  {
   "cell_type": "code",
   "execution_count": 13,
   "metadata": {},
   "outputs": [
    {
     "data": {
      "text/html": [
       "<div>\n",
       "<style scoped>\n",
       "    .dataframe tbody tr th:only-of-type {\n",
       "        vertical-align: middle;\n",
       "    }\n",
       "\n",
       "    .dataframe tbody tr th {\n",
       "        vertical-align: top;\n",
       "    }\n",
       "\n",
       "    .dataframe thead th {\n",
       "        text-align: right;\n",
       "    }\n",
       "</style>\n",
       "<table border=\"1\" class=\"dataframe\">\n",
       "  <thead>\n",
       "    <tr style=\"text-align: right;\">\n",
       "      <th></th>\n",
       "      <th>country</th>\n",
       "      <th>density</th>\n",
       "      <th>abbreviation</th>\n",
       "      <th>agricultural_land</th>\n",
       "      <th>land_area</th>\n",
       "      <th>armed_forces_size</th>\n",
       "      <th>birth_rate</th>\n",
       "      <th>calling_code</th>\n",
       "      <th>capital/major_city</th>\n",
       "      <th>co2-emissions</th>\n",
       "      <th>cpi</th>\n",
       "      <th>cpi_change</th>\n",
       "      <th>currency-code</th>\n",
       "      <th>fertility_rate</th>\n",
       "      <th>forested_area</th>\n",
       "      <th>gasoline_price</th>\n",
       "      <th>gdp</th>\n",
       "      <th>gross_primary_education_enrollment</th>\n",
       "      <th>gross_tertiary_education_enrollment</th>\n",
       "      <th>infant_mortality</th>\n",
       "      <th>largest_city</th>\n",
       "      <th>life_expectancy</th>\n",
       "      <th>maternal_mortality_ratio</th>\n",
       "      <th>minimum_wage</th>\n",
       "      <th>official_language</th>\n",
       "      <th>out_of_pocket_health_expenditure</th>\n",
       "      <th>physicians_per_thousand</th>\n",
       "      <th>population</th>\n",
       "      <th>population_labor_force_participation</th>\n",
       "      <th>tax_revenue</th>\n",
       "      <th>total_tax_rate</th>\n",
       "      <th>unemployment_rate</th>\n",
       "      <th>urban_population</th>\n",
       "      <th>latitude</th>\n",
       "      <th>longitude</th>\n",
       "      <th>continent</th>\n",
       "    </tr>\n",
       "  </thead>\n",
       "  <tbody>\n",
       "    <tr>\n",
       "      <th>0</th>\n",
       "      <td>Afghanistan</td>\n",
       "      <td>60.0</td>\n",
       "      <td>AF</td>\n",
       "      <td>58.1</td>\n",
       "      <td>652.23</td>\n",
       "      <td>323.0</td>\n",
       "      <td>32.49</td>\n",
       "      <td>93.0</td>\n",
       "      <td>Kabul</td>\n",
       "      <td>8.672</td>\n",
       "      <td>149.9</td>\n",
       "      <td>2.3</td>\n",
       "      <td>AFN</td>\n",
       "      <td>4.47</td>\n",
       "      <td>2.1</td>\n",
       "      <td>0.7</td>\n",
       "      <td>1.910135e+10</td>\n",
       "      <td>104.0</td>\n",
       "      <td>9.7</td>\n",
       "      <td>47.9</td>\n",
       "      <td>Kabul</td>\n",
       "      <td>64.5</td>\n",
       "      <td>638.0</td>\n",
       "      <td>0.43</td>\n",
       "      <td>Pashto</td>\n",
       "      <td>78.4</td>\n",
       "      <td>0.28</td>\n",
       "      <td>NaN</td>\n",
       "      <td>48.9</td>\n",
       "      <td>9.3</td>\n",
       "      <td>71.4</td>\n",
       "      <td>11.12</td>\n",
       "      <td>NaN</td>\n",
       "      <td>33.93911</td>\n",
       "      <td>67.709953</td>\n",
       "      <td>Asia</td>\n",
       "    </tr>\n",
       "  </tbody>\n",
       "</table>\n",
       "</div>"
      ],
      "text/plain": [
       "       country  density abbreviation  agricultural_land  land_area  \\\n",
       "0  Afghanistan     60.0           AF               58.1     652.23   \n",
       "\n",
       "   armed_forces_size  birth_rate  calling_code capital/major_city  \\\n",
       "0              323.0       32.49          93.0              Kabul   \n",
       "\n",
       "   co2-emissions    cpi  cpi_change currency-code  fertility_rate  \\\n",
       "0          8.672  149.9         2.3           AFN            4.47   \n",
       "\n",
       "   forested_area  gasoline_price           gdp  \\\n",
       "0            2.1             0.7  1.910135e+10   \n",
       "\n",
       "   gross_primary_education_enrollment  gross_tertiary_education_enrollment  \\\n",
       "0                               104.0                                  9.7   \n",
       "\n",
       "   infant_mortality largest_city  life_expectancy  maternal_mortality_ratio  \\\n",
       "0              47.9        Kabul             64.5                     638.0   \n",
       "\n",
       "   minimum_wage official_language  out_of_pocket_health_expenditure  \\\n",
       "0          0.43            Pashto                              78.4   \n",
       "\n",
       "   physicians_per_thousand  population  population_labor_force_participation  \\\n",
       "0                     0.28         NaN                                  48.9   \n",
       "\n",
       "   tax_revenue  total_tax_rate  unemployment_rate  urban_population  latitude  \\\n",
       "0          9.3            71.4              11.12               NaN  33.93911   \n",
       "\n",
       "   longitude continent  \n",
       "0  67.709953      Asia  "
      ]
     },
     "execution_count": 13,
     "metadata": {},
     "output_type": "execute_result"
    }
   ],
   "source": [
    "df.head(1)"
   ]
  },
  {
   "cell_type": "code",
   "execution_count": 14,
   "metadata": {},
   "outputs": [
    {
     "data": {
      "text/plain": [
       "country                                 False\n",
       "density                                 False\n",
       "abbreviation                             True\n",
       "agricultural_land                        True\n",
       "land_area                                True\n",
       "armed_forces_size                        True\n",
       "birth_rate                               True\n",
       "calling_code                             True\n",
       "capital/major_city                       True\n",
       "co2-emissions                            True\n",
       "cpi                                      True\n",
       "cpi_change                               True\n",
       "currency-code                            True\n",
       "fertility_rate                           True\n",
       "forested_area                            True\n",
       "gasoline_price                           True\n",
       "gdp                                      True\n",
       "gross_primary_education_enrollment       True\n",
       "gross_tertiary_education_enrollment      True\n",
       "infant_mortality                         True\n",
       "largest_city                             True\n",
       "life_expectancy                          True\n",
       "maternal_mortality_ratio                 True\n",
       "minimum_wage                             True\n",
       "official_language                        True\n",
       "out_of_pocket_health_expenditure         True\n",
       "physicians_per_thousand                  True\n",
       "population                               True\n",
       "population_labor_force_participation     True\n",
       "tax_revenue                              True\n",
       "total_tax_rate                           True\n",
       "unemployment_rate                        True\n",
       "urban_population                         True\n",
       "latitude                                 True\n",
       "longitude                                True\n",
       "continent                                True\n",
       "dtype: bool"
      ]
     },
     "execution_count": 14,
     "metadata": {},
     "output_type": "execute_result"
    }
   ],
   "source": [
    "#identificación de nulos:\n",
    "df.isnull().any() #en qué columnas hay valores nulos"
   ]
  },
  {
   "cell_type": "code",
   "execution_count": 15,
   "metadata": {},
   "outputs": [
    {
     "data": {
      "text/plain": [
       "Index(['abbreviation', 'agricultural_land', 'land_area', 'armed_forces_size',\n",
       "       'birth_rate', 'calling_code', 'capital/major_city', 'co2-emissions',\n",
       "       'cpi', 'cpi_change', 'currency-code', 'fertility_rate', 'forested_area',\n",
       "       'gasoline_price', 'gdp', 'gross_primary_education_enrollment',\n",
       "       'gross_tertiary_education_enrollment', 'infant_mortality',\n",
       "       'largest_city', 'life_expectancy', 'maternal_mortality_ratio',\n",
       "       'minimum_wage', 'official_language', 'out_of_pocket_health_expenditure',\n",
       "       'physicians_per_thousand', 'population',\n",
       "       'population_labor_force_participation', 'tax_revenue', 'total_tax_rate',\n",
       "       'unemployment_rate', 'urban_population', 'latitude', 'longitude',\n",
       "       'continent'],\n",
       "      dtype='object')"
      ]
     },
     "execution_count": 15,
     "metadata": {},
     "output_type": "execute_result"
    }
   ],
   "source": [
    "df.columns[df.isnull().any()]"
   ]
  },
  {
   "cell_type": "code",
   "execution_count": 17,
   "metadata": {},
   "outputs": [],
   "source": [
    "# calcular el porcentaje de nulos que tenemos para cada columna\n",
    "porc_nulos = round(df.isnull().sum() / df.shape[0] * 100, 2)"
   ]
  },
  {
   "cell_type": "code",
   "execution_count": 19,
   "metadata": {},
   "outputs": [
    {
     "data": {
      "text/html": [
       "<div>\n",
       "<style scoped>\n",
       "    .dataframe tbody tr th:only-of-type {\n",
       "        vertical-align: middle;\n",
       "    }\n",
       "\n",
       "    .dataframe tbody tr th {\n",
       "        vertical-align: top;\n",
       "    }\n",
       "\n",
       "    .dataframe thead th {\n",
       "        text-align: right;\n",
       "    }\n",
       "</style>\n",
       "<table border=\"1\" class=\"dataframe\">\n",
       "  <thead>\n",
       "    <tr style=\"text-align: right;\">\n",
       "      <th></th>\n",
       "      <th>%_nulos</th>\n",
       "    </tr>\n",
       "  </thead>\n",
       "  <tbody>\n",
       "    <tr>\n",
       "      <th>abbreviation</th>\n",
       "      <td>3.59</td>\n",
       "    </tr>\n",
       "    <tr>\n",
       "      <th>agricultural_land</th>\n",
       "      <td>3.59</td>\n",
       "    </tr>\n",
       "    <tr>\n",
       "      <th>land_area</th>\n",
       "      <td>15.38</td>\n",
       "    </tr>\n",
       "    <tr>\n",
       "      <th>armed_forces_size</th>\n",
       "      <td>14.87</td>\n",
       "    </tr>\n",
       "    <tr>\n",
       "      <th>birth_rate</th>\n",
       "      <td>3.08</td>\n",
       "    </tr>\n",
       "    <tr>\n",
       "      <th>calling_code</th>\n",
       "      <td>0.51</td>\n",
       "    </tr>\n",
       "    <tr>\n",
       "      <th>capital/major_city</th>\n",
       "      <td>1.54</td>\n",
       "    </tr>\n",
       "    <tr>\n",
       "      <th>co2-emissions</th>\n",
       "      <td>6.15</td>\n",
       "    </tr>\n",
       "    <tr>\n",
       "      <th>cpi</th>\n",
       "      <td>10.26</td>\n",
       "    </tr>\n",
       "    <tr>\n",
       "      <th>cpi_change</th>\n",
       "      <td>8.21</td>\n",
       "    </tr>\n",
       "    <tr>\n",
       "      <th>currency-code</th>\n",
       "      <td>7.69</td>\n",
       "    </tr>\n",
       "    <tr>\n",
       "      <th>fertility_rate</th>\n",
       "      <td>3.59</td>\n",
       "    </tr>\n",
       "    <tr>\n",
       "      <th>forested_area</th>\n",
       "      <td>3.59</td>\n",
       "    </tr>\n",
       "    <tr>\n",
       "      <th>gasoline_price</th>\n",
       "      <td>10.26</td>\n",
       "    </tr>\n",
       "    <tr>\n",
       "      <th>gdp</th>\n",
       "      <td>1.03</td>\n",
       "    </tr>\n",
       "    <tr>\n",
       "      <th>gross_primary_education_enrollment</th>\n",
       "      <td>3.59</td>\n",
       "    </tr>\n",
       "    <tr>\n",
       "      <th>gross_tertiary_education_enrollment</th>\n",
       "      <td>6.15</td>\n",
       "    </tr>\n",
       "    <tr>\n",
       "      <th>infant_mortality</th>\n",
       "      <td>3.08</td>\n",
       "    </tr>\n",
       "    <tr>\n",
       "      <th>largest_city</th>\n",
       "      <td>3.08</td>\n",
       "    </tr>\n",
       "    <tr>\n",
       "      <th>life_expectancy</th>\n",
       "      <td>4.10</td>\n",
       "    </tr>\n",
       "    <tr>\n",
       "      <th>maternal_mortality_ratio</th>\n",
       "      <td>7.18</td>\n",
       "    </tr>\n",
       "    <tr>\n",
       "      <th>minimum_wage</th>\n",
       "      <td>23.08</td>\n",
       "    </tr>\n",
       "    <tr>\n",
       "      <th>official_language</th>\n",
       "      <td>2.56</td>\n",
       "    </tr>\n",
       "    <tr>\n",
       "      <th>out_of_pocket_health_expenditure</th>\n",
       "      <td>3.59</td>\n",
       "    </tr>\n",
       "    <tr>\n",
       "      <th>physicians_per_thousand</th>\n",
       "      <td>3.59</td>\n",
       "    </tr>\n",
       "    <tr>\n",
       "      <th>population</th>\n",
       "      <td>80.00</td>\n",
       "    </tr>\n",
       "    <tr>\n",
       "      <th>population_labor_force_participation</th>\n",
       "      <td>9.74</td>\n",
       "    </tr>\n",
       "    <tr>\n",
       "      <th>tax_revenue</th>\n",
       "      <td>13.33</td>\n",
       "    </tr>\n",
       "    <tr>\n",
       "      <th>total_tax_rate</th>\n",
       "      <td>6.15</td>\n",
       "    </tr>\n",
       "    <tr>\n",
       "      <th>unemployment_rate</th>\n",
       "      <td>9.74</td>\n",
       "    </tr>\n",
       "    <tr>\n",
       "      <th>urban_population</th>\n",
       "      <td>76.92</td>\n",
       "    </tr>\n",
       "    <tr>\n",
       "      <th>latitude</th>\n",
       "      <td>0.51</td>\n",
       "    </tr>\n",
       "    <tr>\n",
       "      <th>longitude</th>\n",
       "      <td>0.51</td>\n",
       "    </tr>\n",
       "    <tr>\n",
       "      <th>continent</th>\n",
       "      <td>0.51</td>\n",
       "    </tr>\n",
       "  </tbody>\n",
       "</table>\n",
       "</div>"
      ],
      "text/plain": [
       "                                      %_nulos\n",
       "abbreviation                             3.59\n",
       "agricultural_land                        3.59\n",
       "land_area                               15.38\n",
       "armed_forces_size                       14.87\n",
       "birth_rate                               3.08\n",
       "calling_code                             0.51\n",
       "capital/major_city                       1.54\n",
       "co2-emissions                            6.15\n",
       "cpi                                     10.26\n",
       "cpi_change                               8.21\n",
       "currency-code                            7.69\n",
       "fertility_rate                           3.59\n",
       "forested_area                            3.59\n",
       "gasoline_price                          10.26\n",
       "gdp                                      1.03\n",
       "gross_primary_education_enrollment       3.59\n",
       "gross_tertiary_education_enrollment      6.15\n",
       "infant_mortality                         3.08\n",
       "largest_city                             3.08\n",
       "life_expectancy                          4.10\n",
       "maternal_mortality_ratio                 7.18\n",
       "minimum_wage                            23.08\n",
       "official_language                        2.56\n",
       "out_of_pocket_health_expenditure         3.59\n",
       "physicians_per_thousand                  3.59\n",
       "population                              80.00\n",
       "population_labor_force_participation     9.74\n",
       "tax_revenue                             13.33\n",
       "total_tax_rate                           6.15\n",
       "unemployment_rate                        9.74\n",
       "urban_population                        76.92\n",
       "latitude                                 0.51\n",
       "longitude                                0.51\n",
       "continent                                0.51"
      ]
     },
     "execution_count": 19,
     "metadata": {},
     "output_type": "execute_result"
    }
   ],
   "source": [
    "# lo convertimos a DataFrame\n",
    "df_nulos = pd.DataFrame(porc_nulos, columns = [\"%_nulos\"])\n",
    "\n",
    "# filtramos el DataFrame para quedarnos solo con aquellas columnas que tengan nulos\n",
    "df_nulos[df_nulos[\"%_nulos\"] > 0]"
   ]
  },
  {
   "cell_type": "markdown",
   "metadata": {},
   "source": [
    "2. Selección de Método de Imputación: Discute en tu compañera cuál sería la mejor estrategia para manejar los valores nulos en cada una de las columnas identificadas en el paso anterior."
   ]
  },
  {
   "cell_type": "markdown",
   "metadata": {},
   "source": [
    "### Miramos los nulos `categórigos`"
   ]
  },
  {
   "cell_type": "code",
   "execution_count": 20,
   "metadata": {},
   "outputs": [],
   "source": [
    "nulos_categoricos = df[df.columns[df.isnull().any()]].select_dtypes(include = 'O').columns #objects"
   ]
  },
  {
   "cell_type": "code",
   "execution_count": 21,
   "metadata": {},
   "outputs": [
    {
     "data": {
      "text/plain": [
       "Index(['abbreviation', 'capital/major_city', 'currency-code', 'largest_city',\n",
       "       'official_language', 'continent'],\n",
       "      dtype='object')"
      ]
     },
     "execution_count": 21,
     "metadata": {},
     "output_type": "execute_result"
    }
   ],
   "source": [
    "nulos_categoricos"
   ]
  },
  {
   "cell_type": "code",
   "execution_count": 26,
   "metadata": {},
   "outputs": [
    {
     "data": {
      "text/plain": [
       "(195, 36)"
      ]
     },
     "execution_count": 26,
     "metadata": {},
     "output_type": "execute_result"
    }
   ],
   "source": [
    "df.shape"
   ]
  },
  {
   "cell_type": "code",
   "execution_count": 38,
   "metadata": {},
   "outputs": [],
   "source": [
    "df_nulos_cat = df[nulos_categoricos].isnull().sum() / df.shape[0] *100"
   ]
  },
  {
   "cell_type": "code",
   "execution_count": 39,
   "metadata": {},
   "outputs": [
    {
     "data": {
      "text/plain": [
       "abbreviation          3.589744\n",
       "capital/major_city    1.538462\n",
       "currency-code         7.692308\n",
       "largest_city          3.076923\n",
       "official_language     2.564103\n",
       "continent             0.512821\n",
       "dtype: float64"
      ]
     },
     "metadata": {},
     "output_type": "display_data"
    }
   ],
   "source": [
    "display(df_nulos_cat)"
   ]
  },
  {
   "cell_type": "code",
   "execution_count": 40,
   "metadata": {},
   "outputs": [],
   "source": [
    "df_nulos_cat = df_nulos_cat.reset_index()"
   ]
  },
  {
   "cell_type": "code",
   "execution_count": 41,
   "metadata": {},
   "outputs": [
    {
     "data": {
      "text/html": [
       "<div>\n",
       "<style scoped>\n",
       "    .dataframe tbody tr th:only-of-type {\n",
       "        vertical-align: middle;\n",
       "    }\n",
       "\n",
       "    .dataframe tbody tr th {\n",
       "        vertical-align: top;\n",
       "    }\n",
       "\n",
       "    .dataframe thead th {\n",
       "        text-align: right;\n",
       "    }\n",
       "</style>\n",
       "<table border=\"1\" class=\"dataframe\">\n",
       "  <thead>\n",
       "    <tr style=\"text-align: right;\">\n",
       "      <th></th>\n",
       "      <th>index</th>\n",
       "      <th>0</th>\n",
       "    </tr>\n",
       "  </thead>\n",
       "  <tbody>\n",
       "    <tr>\n",
       "      <th>0</th>\n",
       "      <td>abbreviation</td>\n",
       "      <td>3.589744</td>\n",
       "    </tr>\n",
       "    <tr>\n",
       "      <th>1</th>\n",
       "      <td>capital/major_city</td>\n",
       "      <td>1.538462</td>\n",
       "    </tr>\n",
       "    <tr>\n",
       "      <th>2</th>\n",
       "      <td>currency-code</td>\n",
       "      <td>7.692308</td>\n",
       "    </tr>\n",
       "    <tr>\n",
       "      <th>3</th>\n",
       "      <td>largest_city</td>\n",
       "      <td>3.076923</td>\n",
       "    </tr>\n",
       "    <tr>\n",
       "      <th>4</th>\n",
       "      <td>official_language</td>\n",
       "      <td>2.564103</td>\n",
       "    </tr>\n",
       "    <tr>\n",
       "      <th>5</th>\n",
       "      <td>continent</td>\n",
       "      <td>0.512821</td>\n",
       "    </tr>\n",
       "  </tbody>\n",
       "</table>\n",
       "</div>"
      ],
      "text/plain": [
       "                index         0\n",
       "0        abbreviation  3.589744\n",
       "1  capital/major_city  1.538462\n",
       "2       currency-code  7.692308\n",
       "3        largest_city  3.076923\n",
       "4   official_language  2.564103\n",
       "5           continent  0.512821"
      ]
     },
     "execution_count": 41,
     "metadata": {},
     "output_type": "execute_result"
    }
   ],
   "source": [
    "df_nulos_cat"
   ]
  },
  {
   "cell_type": "code",
   "execution_count": 59,
   "metadata": {},
   "outputs": [
    {
     "data": {
      "text/plain": [
       "continent\n",
       "Africa             53\n",
       "Europe             47\n",
       "Asia               45\n",
       "Central America    20\n",
       "Oceania            14\n",
       "South America      13\n",
       "North America       2\n",
       "Name: count, dtype: int64"
      ]
     },
     "execution_count": 59,
     "metadata": {},
     "output_type": "execute_result"
    }
   ],
   "source": [
    "df['continent'].value_counts()"
   ]
  },
  {
   "cell_type": "markdown",
   "metadata": {},
   "source": [
    "|index\t|%nulos| Análisis|\n",
    "|---------|----------|--------|\n",
    "|abbreviation\t|3.589744|  %nulo menor que 10%, pero países con frecuencia = 1, no hay moda representativa. ponemos `unknown`   |\n",
    "|capital/major_city\t|1.538462|  %nulo menor que 10%, pero países con frecuencia = 1, no hay moda representativa. ponemos `unknown`  |\n",
    "|currency-code\t|7.692308|  EUR tiene frecuencia: 23 y XOF tiene freq = 8. ponemos `unknown` . Sería muy raro poner EUR a un país africano que no tenga currency-code|\n",
    "|largest_city\t|3.076923| ponemos `unknown`    |\n",
    "|official_language\t|2.564103|  English   31, French  25, ponemos `unknown` |\n",
    "|continent\t|0.512821|  ponemos `unknown` |"
   ]
  },
  {
   "cell_type": "markdown",
   "metadata": {},
   "source": [
    "### Miramos los nulos `numéricos`"
   ]
  },
  {
   "cell_type": "code",
   "execution_count": null,
   "metadata": {},
   "outputs": [],
   "source": [
    "#nos falta esta parte"
   ]
  },
  {
   "cell_type": "markdown",
   "metadata": {},
   "source": [
    "3. Imputación de Valores Nulos: Implementa el método de imputación seleccionado en el paso 2 para llenar los valores nulos en las columnas."
   ]
  },
  {
   "cell_type": "code",
   "execution_count": null,
   "metadata": {},
   "outputs": [],
   "source": []
  },
  {
   "cell_type": "markdown",
   "metadata": {},
   "source": [
    "4. Informe: Añade al final de un jupyter una explicación breve que describa las columnas que tenían valores nulos, cómo decidiste imputarlos y cualquier observación adicional que consideres importante sobre el proceso de limpieza de datos.\n",
    "\n",
    "`Nota:` Puedes utilizar cualquier método o estrategia de imputación que consideres adecuado para los datos y discutir las ventajas y desventajas de tu elección en el informe."
   ]
  }
 ],
 "metadata": {
  "kernelspec": {
   "display_name": "promo49",
   "language": "python",
   "name": "python3"
  },
  "language_info": {
   "codemirror_mode": {
    "name": "ipython",
    "version": 3
   },
   "file_extension": ".py",
   "mimetype": "text/x-python",
   "name": "python",
   "nbconvert_exporter": "python",
   "pygments_lexer": "ipython3",
   "version": "3.11.11"
  }
 },
 "nbformat": 4,
 "nbformat_minor": 2
}
