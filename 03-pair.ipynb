{
 "cells": [
  {
   "cell_type": "markdown",
   "metadata": {},
   "source": [
    "# Ejercicios Pair EDA:\n",
    "\n",
    "Para realizar estos ejercicios deberéis usar el conjunto de datos de `world-data-2023-part1.csv`.\n",
    "\n",
    "1. Muestra las primeras 5 filas del conjunto de datos."
   ]
  },
  {
   "cell_type": "code",
   "execution_count": 2,
   "metadata": {},
   "outputs": [],
   "source": [
    "import pandas as pd"
   ]
  },
  {
   "cell_type": "code",
   "execution_count": 3,
   "metadata": {},
   "outputs": [],
   "source": [
    "df = pd.read_csv(\"world-data-2023_part1.csv\", index_col = 0)"
   ]
  },
  {
   "cell_type": "code",
   "execution_count": 5,
   "metadata": {},
   "outputs": [
    {
     "data": {
      "text/html": [
       "<div>\n",
       "<style scoped>\n",
       "    .dataframe tbody tr th:only-of-type {\n",
       "        vertical-align: middle;\n",
       "    }\n",
       "\n",
       "    .dataframe tbody tr th {\n",
       "        vertical-align: top;\n",
       "    }\n",
       "\n",
       "    .dataframe thead th {\n",
       "        text-align: right;\n",
       "    }\n",
       "</style>\n",
       "<table border=\"1\" class=\"dataframe\">\n",
       "  <thead>\n",
       "    <tr style=\"text-align: right;\">\n",
       "      <th></th>\n",
       "      <th>Country</th>\n",
       "      <th>Density\\n(P/Km2)</th>\n",
       "      <th>Abbreviation</th>\n",
       "      <th>Agricultural Land( %)</th>\n",
       "      <th>Land Area(Km2)</th>\n",
       "      <th>Armed Forces size</th>\n",
       "      <th>Birth Rate</th>\n",
       "      <th>Calling Code</th>\n",
       "      <th>Capital/Major City</th>\n",
       "      <th>Co2-Emissions</th>\n",
       "      <th>CPI</th>\n",
       "      <th>CPI Change (%)</th>\n",
       "      <th>Currency-Code</th>\n",
       "      <th>Fertility Rate</th>\n",
       "      <th>Forested Area (%)</th>\n",
       "      <th>Gasoline Price</th>\n",
       "    </tr>\n",
       "  </thead>\n",
       "  <tbody>\n",
       "    <tr>\n",
       "      <th>0</th>\n",
       "      <td>Afghanistan</td>\n",
       "      <td>60</td>\n",
       "      <td>AF</td>\n",
       "      <td>58.10%</td>\n",
       "      <td>652,230</td>\n",
       "      <td>323,000</td>\n",
       "      <td>32.49</td>\n",
       "      <td>93.0</td>\n",
       "      <td>Kabul</td>\n",
       "      <td>8,672</td>\n",
       "      <td>149.9</td>\n",
       "      <td>2.30%</td>\n",
       "      <td>AFN</td>\n",
       "      <td>4.47</td>\n",
       "      <td>2.10%</td>\n",
       "      <td>$0.70</td>\n",
       "    </tr>\n",
       "    <tr>\n",
       "      <th>1</th>\n",
       "      <td>Albania</td>\n",
       "      <td>105</td>\n",
       "      <td>AL</td>\n",
       "      <td>43.10%</td>\n",
       "      <td>28,748</td>\n",
       "      <td>9,000</td>\n",
       "      <td>11.78</td>\n",
       "      <td>355.0</td>\n",
       "      <td>Tirana</td>\n",
       "      <td>4,536</td>\n",
       "      <td>119.05</td>\n",
       "      <td>1.40%</td>\n",
       "      <td>ALL</td>\n",
       "      <td>1.62</td>\n",
       "      <td>28.10%</td>\n",
       "      <td>$1.36</td>\n",
       "    </tr>\n",
       "    <tr>\n",
       "      <th>2</th>\n",
       "      <td>Algeria</td>\n",
       "      <td>18</td>\n",
       "      <td>DZ</td>\n",
       "      <td>17.40%</td>\n",
       "      <td>2,381,741</td>\n",
       "      <td>317,000</td>\n",
       "      <td>24.28</td>\n",
       "      <td>213.0</td>\n",
       "      <td>Algiers</td>\n",
       "      <td>150,006</td>\n",
       "      <td>151.36</td>\n",
       "      <td>2.00%</td>\n",
       "      <td>DZD</td>\n",
       "      <td>3.02</td>\n",
       "      <td>0.80%</td>\n",
       "      <td>$0.28</td>\n",
       "    </tr>\n",
       "    <tr>\n",
       "      <th>3</th>\n",
       "      <td>Andorra</td>\n",
       "      <td>164</td>\n",
       "      <td>AD</td>\n",
       "      <td>40.00%</td>\n",
       "      <td>468</td>\n",
       "      <td>NaN</td>\n",
       "      <td>7.20</td>\n",
       "      <td>376.0</td>\n",
       "      <td>Andorra la Vella</td>\n",
       "      <td>469</td>\n",
       "      <td>NaN</td>\n",
       "      <td>NaN</td>\n",
       "      <td>EUR</td>\n",
       "      <td>1.27</td>\n",
       "      <td>34.00%</td>\n",
       "      <td>$1.51</td>\n",
       "    </tr>\n",
       "    <tr>\n",
       "      <th>4</th>\n",
       "      <td>Angola</td>\n",
       "      <td>26</td>\n",
       "      <td>AO</td>\n",
       "      <td>47.50%</td>\n",
       "      <td>1,246,700</td>\n",
       "      <td>117,000</td>\n",
       "      <td>40.73</td>\n",
       "      <td>244.0</td>\n",
       "      <td>Luanda</td>\n",
       "      <td>34,693</td>\n",
       "      <td>261.73</td>\n",
       "      <td>17.10%</td>\n",
       "      <td>AOA</td>\n",
       "      <td>5.52</td>\n",
       "      <td>46.30%</td>\n",
       "      <td>$0.97</td>\n",
       "    </tr>\n",
       "  </tbody>\n",
       "</table>\n",
       "</div>"
      ],
      "text/plain": [
       "       Country Density\\n(P/Km2) Abbreviation Agricultural Land( %)  \\\n",
       "0  Afghanistan               60           AF                58.10%   \n",
       "1      Albania              105           AL                43.10%   \n",
       "2      Algeria               18           DZ                17.40%   \n",
       "3      Andorra              164           AD                40.00%   \n",
       "4       Angola               26           AO                47.50%   \n",
       "\n",
       "  Land Area(Km2) Armed Forces size  Birth Rate  Calling Code  \\\n",
       "0        652,230           323,000       32.49          93.0   \n",
       "1         28,748             9,000       11.78         355.0   \n",
       "2      2,381,741           317,000       24.28         213.0   \n",
       "3            468               NaN        7.20         376.0   \n",
       "4      1,246,700           117,000       40.73         244.0   \n",
       "\n",
       "  Capital/Major City Co2-Emissions     CPI CPI Change (%) Currency-Code  \\\n",
       "0              Kabul         8,672   149.9          2.30%           AFN   \n",
       "1             Tirana         4,536  119.05          1.40%           ALL   \n",
       "2            Algiers       150,006  151.36          2.00%           DZD   \n",
       "3   Andorra la Vella           469     NaN            NaN           EUR   \n",
       "4             Luanda        34,693  261.73         17.10%           AOA   \n",
       "\n",
       "   Fertility Rate Forested Area (%) Gasoline Price  \n",
       "0            4.47             2.10%         $0.70   \n",
       "1            1.62            28.10%         $1.36   \n",
       "2            3.02             0.80%         $0.28   \n",
       "3            1.27            34.00%         $1.51   \n",
       "4            5.52            46.30%         $0.97   "
      ]
     },
     "execution_count": 5,
     "metadata": {},
     "output_type": "execute_result"
    }
   ],
   "source": [
    "df.head()"
   ]
  },
  {
   "cell_type": "markdown",
   "metadata": {},
   "source": [
    "2. Muestra las últimas 5 filas del conjunto de datos.\n",
    "\n"
   ]
  },
  {
   "cell_type": "code",
   "execution_count": 6,
   "metadata": {},
   "outputs": [
    {
     "data": {
      "text/html": [
       "<div>\n",
       "<style scoped>\n",
       "    .dataframe tbody tr th:only-of-type {\n",
       "        vertical-align: middle;\n",
       "    }\n",
       "\n",
       "    .dataframe tbody tr th {\n",
       "        vertical-align: top;\n",
       "    }\n",
       "\n",
       "    .dataframe thead th {\n",
       "        text-align: right;\n",
       "    }\n",
       "</style>\n",
       "<table border=\"1\" class=\"dataframe\">\n",
       "  <thead>\n",
       "    <tr style=\"text-align: right;\">\n",
       "      <th></th>\n",
       "      <th>Country</th>\n",
       "      <th>Density\\n(P/Km2)</th>\n",
       "      <th>Abbreviation</th>\n",
       "      <th>Agricultural Land( %)</th>\n",
       "      <th>Land Area(Km2)</th>\n",
       "      <th>Armed Forces size</th>\n",
       "      <th>Birth Rate</th>\n",
       "      <th>Calling Code</th>\n",
       "      <th>Capital/Major City</th>\n",
       "      <th>Co2-Emissions</th>\n",
       "      <th>CPI</th>\n",
       "      <th>CPI Change (%)</th>\n",
       "      <th>Currency-Code</th>\n",
       "      <th>Fertility Rate</th>\n",
       "      <th>Forested Area (%)</th>\n",
       "      <th>Gasoline Price</th>\n",
       "    </tr>\n",
       "  </thead>\n",
       "  <tbody>\n",
       "    <tr>\n",
       "      <th>190</th>\n",
       "      <td>Venezuela</td>\n",
       "      <td>32</td>\n",
       "      <td>VE</td>\n",
       "      <td>24.50%</td>\n",
       "      <td>912,050</td>\n",
       "      <td>343,000</td>\n",
       "      <td>17.88</td>\n",
       "      <td>58.0</td>\n",
       "      <td>Caracas</td>\n",
       "      <td>164,175</td>\n",
       "      <td>2,740.27</td>\n",
       "      <td>254.90%</td>\n",
       "      <td>VED</td>\n",
       "      <td>2.27</td>\n",
       "      <td>52.70%</td>\n",
       "      <td>$0.00</td>\n",
       "    </tr>\n",
       "    <tr>\n",
       "      <th>191</th>\n",
       "      <td>Vietnam</td>\n",
       "      <td>314</td>\n",
       "      <td>VN</td>\n",
       "      <td>39.30%</td>\n",
       "      <td>331,210</td>\n",
       "      <td>522,000</td>\n",
       "      <td>16.75</td>\n",
       "      <td>84.0</td>\n",
       "      <td>Hanoi</td>\n",
       "      <td>192,668</td>\n",
       "      <td>163.52</td>\n",
       "      <td>2.80%</td>\n",
       "      <td>VND</td>\n",
       "      <td>2.05</td>\n",
       "      <td>48.10%</td>\n",
       "      <td>$0.80</td>\n",
       "    </tr>\n",
       "    <tr>\n",
       "      <th>192</th>\n",
       "      <td>Yemen</td>\n",
       "      <td>56</td>\n",
       "      <td>YE</td>\n",
       "      <td>44.60%</td>\n",
       "      <td>527,968</td>\n",
       "      <td>40,000</td>\n",
       "      <td>30.45</td>\n",
       "      <td>967.0</td>\n",
       "      <td>Sanaa</td>\n",
       "      <td>10,609</td>\n",
       "      <td>157.58</td>\n",
       "      <td>8.10%</td>\n",
       "      <td>YER</td>\n",
       "      <td>3.79</td>\n",
       "      <td>1.00%</td>\n",
       "      <td>$0.92</td>\n",
       "    </tr>\n",
       "    <tr>\n",
       "      <th>193</th>\n",
       "      <td>Zambia</td>\n",
       "      <td>25</td>\n",
       "      <td>ZM</td>\n",
       "      <td>32.10%</td>\n",
       "      <td>752,618</td>\n",
       "      <td>16,000</td>\n",
       "      <td>36.19</td>\n",
       "      <td>260.0</td>\n",
       "      <td>Lusaka</td>\n",
       "      <td>5,141</td>\n",
       "      <td>212.31</td>\n",
       "      <td>9.20%</td>\n",
       "      <td>ZMW</td>\n",
       "      <td>4.63</td>\n",
       "      <td>65.20%</td>\n",
       "      <td>$1.40</td>\n",
       "    </tr>\n",
       "    <tr>\n",
       "      <th>194</th>\n",
       "      <td>Zimbabwe</td>\n",
       "      <td>38</td>\n",
       "      <td>ZW</td>\n",
       "      <td>41.90%</td>\n",
       "      <td>390,757</td>\n",
       "      <td>51,000</td>\n",
       "      <td>30.68</td>\n",
       "      <td>263.0</td>\n",
       "      <td>Harare</td>\n",
       "      <td>10,983</td>\n",
       "      <td>105.51</td>\n",
       "      <td>0.90%</td>\n",
       "      <td>NaN</td>\n",
       "      <td>3.62</td>\n",
       "      <td>35.50%</td>\n",
       "      <td>$1.34</td>\n",
       "    </tr>\n",
       "  </tbody>\n",
       "</table>\n",
       "</div>"
      ],
      "text/plain": [
       "       Country Density\\n(P/Km2) Abbreviation Agricultural Land( %)  \\\n",
       "190  Venezuela               32           VE                24.50%   \n",
       "191    Vietnam              314           VN                39.30%   \n",
       "192      Yemen               56           YE                44.60%   \n",
       "193     Zambia               25           ZM                32.10%   \n",
       "194   Zimbabwe               38           ZW                41.90%   \n",
       "\n",
       "    Land Area(Km2) Armed Forces size  Birth Rate  Calling Code  \\\n",
       "190        912,050           343,000       17.88          58.0   \n",
       "191        331,210           522,000       16.75          84.0   \n",
       "192        527,968            40,000       30.45         967.0   \n",
       "193        752,618            16,000       36.19         260.0   \n",
       "194        390,757            51,000       30.68         263.0   \n",
       "\n",
       "    Capital/Major City Co2-Emissions       CPI CPI Change (%) Currency-Code  \\\n",
       "190            Caracas       164,175  2,740.27        254.90%           VED   \n",
       "191              Hanoi       192,668    163.52          2.80%           VND   \n",
       "192              Sanaa        10,609    157.58          8.10%           YER   \n",
       "193             Lusaka         5,141    212.31          9.20%           ZMW   \n",
       "194             Harare        10,983    105.51          0.90%           NaN   \n",
       "\n",
       "     Fertility Rate Forested Area (%) Gasoline Price  \n",
       "190            2.27            52.70%         $0.00   \n",
       "191            2.05            48.10%         $0.80   \n",
       "192            3.79             1.00%         $0.92   \n",
       "193            4.63            65.20%         $1.40   \n",
       "194            3.62            35.50%         $1.34   "
      ]
     },
     "execution_count": 6,
     "metadata": {},
     "output_type": "execute_result"
    }
   ],
   "source": [
    "df.tail()"
   ]
  },
  {
   "cell_type": "markdown",
   "metadata": {},
   "source": [
    "3. Muestra una muestra aleatoria de 5 filas del conjunto de datos.\n",
    "\n"
   ]
  },
  {
   "cell_type": "code",
   "execution_count": 8,
   "metadata": {},
   "outputs": [
    {
     "data": {
      "text/html": [
       "<div>\n",
       "<style scoped>\n",
       "    .dataframe tbody tr th:only-of-type {\n",
       "        vertical-align: middle;\n",
       "    }\n",
       "\n",
       "    .dataframe tbody tr th {\n",
       "        vertical-align: top;\n",
       "    }\n",
       "\n",
       "    .dataframe thead th {\n",
       "        text-align: right;\n",
       "    }\n",
       "</style>\n",
       "<table border=\"1\" class=\"dataframe\">\n",
       "  <thead>\n",
       "    <tr style=\"text-align: right;\">\n",
       "      <th></th>\n",
       "      <th>Country</th>\n",
       "      <th>Density\\n(P/Km2)</th>\n",
       "      <th>Abbreviation</th>\n",
       "      <th>Agricultural Land( %)</th>\n",
       "      <th>Land Area(Km2)</th>\n",
       "      <th>Armed Forces size</th>\n",
       "      <th>Birth Rate</th>\n",
       "      <th>Calling Code</th>\n",
       "      <th>Capital/Major City</th>\n",
       "      <th>Co2-Emissions</th>\n",
       "      <th>CPI</th>\n",
       "      <th>CPI Change (%)</th>\n",
       "      <th>Currency-Code</th>\n",
       "      <th>Fertility Rate</th>\n",
       "      <th>Forested Area (%)</th>\n",
       "      <th>Gasoline Price</th>\n",
       "    </tr>\n",
       "  </thead>\n",
       "  <tbody>\n",
       "    <tr>\n",
       "      <th>106</th>\n",
       "      <td>Malta</td>\n",
       "      <td>1,380</td>\n",
       "      <td>MT</td>\n",
       "      <td>32.40%</td>\n",
       "      <td>316</td>\n",
       "      <td>2,000</td>\n",
       "      <td>9.20</td>\n",
       "      <td>356.0</td>\n",
       "      <td>Valletta</td>\n",
       "      <td>1,342</td>\n",
       "      <td>113.45</td>\n",
       "      <td>1.60%</td>\n",
       "      <td>EUR</td>\n",
       "      <td>1.23</td>\n",
       "      <td>1.10%</td>\n",
       "      <td>$1.36</td>\n",
       "    </tr>\n",
       "    <tr>\n",
       "      <th>171</th>\n",
       "      <td>Tajikistan</td>\n",
       "      <td>68</td>\n",
       "      <td>TJ</td>\n",
       "      <td>34.10%</td>\n",
       "      <td>144,100</td>\n",
       "      <td>17,000</td>\n",
       "      <td>30.76</td>\n",
       "      <td>992.0</td>\n",
       "      <td>Dushanbe</td>\n",
       "      <td>5,310</td>\n",
       "      <td>148.57</td>\n",
       "      <td>6.00%</td>\n",
       "      <td>TJS</td>\n",
       "      <td>3.59</td>\n",
       "      <td>3.00%</td>\n",
       "      <td>$0.71</td>\n",
       "    </tr>\n",
       "    <tr>\n",
       "      <th>16</th>\n",
       "      <td>Belgium</td>\n",
       "      <td>383</td>\n",
       "      <td>BE</td>\n",
       "      <td>44.60%</td>\n",
       "      <td>30,528</td>\n",
       "      <td>32,000</td>\n",
       "      <td>10.30</td>\n",
       "      <td>32.0</td>\n",
       "      <td>City of Brussels</td>\n",
       "      <td>96,889</td>\n",
       "      <td>117.11</td>\n",
       "      <td>1.40%</td>\n",
       "      <td>EUR</td>\n",
       "      <td>1.62</td>\n",
       "      <td>22.60%</td>\n",
       "      <td>$1.43</td>\n",
       "    </tr>\n",
       "    <tr>\n",
       "      <th>145</th>\n",
       "      <td>Saint Kitts and Nevis</td>\n",
       "      <td>205</td>\n",
       "      <td>KN</td>\n",
       "      <td>23.10%</td>\n",
       "      <td>261</td>\n",
       "      <td>NaN</td>\n",
       "      <td>12.60</td>\n",
       "      <td>1.0</td>\n",
       "      <td>Basseterre</td>\n",
       "      <td>238</td>\n",
       "      <td>104.57</td>\n",
       "      <td>-1.00%</td>\n",
       "      <td>XCD</td>\n",
       "      <td>2.11</td>\n",
       "      <td>42.30%</td>\n",
       "      <td>NaN</td>\n",
       "    </tr>\n",
       "    <tr>\n",
       "      <th>78</th>\n",
       "      <td>Indonesia</td>\n",
       "      <td>151</td>\n",
       "      <td>ID</td>\n",
       "      <td>31.50%</td>\n",
       "      <td>1,904,569</td>\n",
       "      <td>676,000</td>\n",
       "      <td>18.07</td>\n",
       "      <td>62.0</td>\n",
       "      <td>Jakarta</td>\n",
       "      <td>563,325</td>\n",
       "      <td>151.18</td>\n",
       "      <td>3.00%</td>\n",
       "      <td>IDR</td>\n",
       "      <td>2.31</td>\n",
       "      <td>49.90%</td>\n",
       "      <td>$0.63</td>\n",
       "    </tr>\n",
       "  </tbody>\n",
       "</table>\n",
       "</div>"
      ],
      "text/plain": [
       "                   Country Density\\n(P/Km2) Abbreviation  \\\n",
       "106                  Malta            1,380           MT   \n",
       "171             Tajikistan               68           TJ   \n",
       "16                 Belgium              383           BE   \n",
       "145  Saint Kitts and Nevis              205           KN   \n",
       "78               Indonesia              151           ID   \n",
       "\n",
       "    Agricultural Land( %) Land Area(Km2) Armed Forces size  Birth Rate  \\\n",
       "106                32.40%            316             2,000        9.20   \n",
       "171                34.10%        144,100            17,000       30.76   \n",
       "16                 44.60%         30,528            32,000       10.30   \n",
       "145                23.10%            261               NaN       12.60   \n",
       "78                 31.50%      1,904,569           676,000       18.07   \n",
       "\n",
       "     Calling Code Capital/Major City Co2-Emissions     CPI CPI Change (%)  \\\n",
       "106         356.0           Valletta         1,342  113.45          1.60%   \n",
       "171         992.0           Dushanbe         5,310  148.57          6.00%   \n",
       "16           32.0   City of Brussels        96,889  117.11          1.40%   \n",
       "145           1.0         Basseterre           238  104.57         -1.00%   \n",
       "78           62.0            Jakarta       563,325  151.18          3.00%   \n",
       "\n",
       "    Currency-Code  Fertility Rate Forested Area (%) Gasoline Price  \n",
       "106           EUR            1.23             1.10%         $1.36   \n",
       "171           TJS            3.59             3.00%         $0.71   \n",
       "16            EUR            1.62            22.60%         $1.43   \n",
       "145           XCD            2.11            42.30%            NaN  \n",
       "78            IDR            2.31            49.90%         $0.63   "
      ]
     },
     "execution_count": 8,
     "metadata": {},
     "output_type": "execute_result"
    }
   ],
   "source": [
    "df.sample(5)"
   ]
  },
  {
   "cell_type": "markdown",
   "metadata": {},
   "source": [
    "4. Muestra el nombre de todas las columnas en el conjunto de datos.\n",
    "\n"
   ]
  },
  {
   "cell_type": "code",
   "execution_count": 9,
   "metadata": {},
   "outputs": [
    {
     "data": {
      "text/plain": [
       "Index(['Country', 'Density\\n(P/Km2)', 'Abbreviation', 'Agricultural Land( %)',\n",
       "       'Land Area(Km2)', 'Armed Forces size', 'Birth Rate', 'Calling Code',\n",
       "       'Capital/Major City', 'Co2-Emissions', 'CPI', 'CPI Change (%)',\n",
       "       'Currency-Code', 'Fertility Rate', 'Forested Area (%)',\n",
       "       'Gasoline Price'],\n",
       "      dtype='object')"
      ]
     },
     "execution_count": 9,
     "metadata": {},
     "output_type": "execute_result"
    }
   ],
   "source": [
    "df.columns"
   ]
  },
  {
   "cell_type": "code",
   "execution_count": 10,
   "metadata": {},
   "outputs": [
    {
     "data": {
      "text/plain": [
       "16"
      ]
     },
     "execution_count": 10,
     "metadata": {},
     "output_type": "execute_result"
    }
   ],
   "source": [
    "#para contar las columnas\n",
    "len(df.columns)"
   ]
  },
  {
   "cell_type": "code",
   "execution_count": null,
   "metadata": {},
   "outputs": [
    {
     "data": {
      "text/plain": [
       "(195, 16)"
      ]
     },
     "execution_count": 11,
     "metadata": {},
     "output_type": "execute_result"
    }
   ],
   "source": [
    "df.shape #saca tupla con (filas, columnas)"
   ]
  },
  {
   "cell_type": "markdown",
   "metadata": {},
   "source": [
    "5. Muestra los valores únicos en la columna \"Abbreviation\".\n"
   ]
  },
  {
   "cell_type": "code",
   "execution_count": 12,
   "metadata": {},
   "outputs": [
    {
     "data": {
      "text/plain": [
       "array(['AF', 'AL', 'DZ', 'AD', 'AO', 'AG', 'AR', 'AM', 'AU', 'AT', 'AZ',\n",
       "       'BS', 'BH', 'BD', 'BB', 'BY', 'BE', 'BZ', 'BJ', 'BT', 'BO', 'BA',\n",
       "       'BW', 'BR', 'BN', 'BG', 'BF', 'BI', 'CI', 'CV', 'KH', 'CM', 'CA',\n",
       "       'CF', 'TD', 'CL', 'CN', 'CO', 'KM', nan, 'CR', 'HR', 'CU', 'CY',\n",
       "       'CZ', 'CD', 'DK', 'DJ', 'DM', 'DO', 'EC', 'EG', 'SV', 'GQ', 'ER',\n",
       "       'EE', 'ET', 'FJ', 'FI', 'FR', 'GA', 'GM', 'GE', 'DE', 'GH', 'GR',\n",
       "       'GD', 'GT', 'GN', 'GW', 'GY', 'HT', 'HN', 'HU', 'IS', 'IN', 'ID',\n",
       "       'IR', 'IQ', 'IL', 'IT', 'JM', 'JP', 'JO', 'KZ', 'KE', 'KI', 'KW',\n",
       "       'KG', 'LA', 'LV', 'LB', 'LS', 'LR', 'LY', 'LI', 'LT', 'LU', 'MG',\n",
       "       'MW', 'MY', 'MV', 'ML', 'MT', 'MH', 'MR', 'MU', 'MX', 'FM', 'MD',\n",
       "       'MC', 'MN', 'ME', 'MA', 'MZ', 'MM', 'NR', 'NP', 'NL', 'NZ', 'NI',\n",
       "       'NE', 'NG', 'KP', 'NO', 'OM', 'PK', 'PW', 'PA', 'PG', 'PY', 'PE',\n",
       "       'PH', 'PL', 'PT', 'QA', 'RO', 'RU', 'RW', 'KN', 'LC', 'VC', 'WS',\n",
       "       'SM', 'ST', 'SA', 'SN', 'RS', 'SC', 'SL', 'SG', 'SK', 'SI', 'SB',\n",
       "       'SO', 'ZA', 'KR', 'SS', 'ES', 'LK', 'SD', 'SR', 'SE', 'CH', 'SY',\n",
       "       'TJ', 'TZ', 'TH', 'TL', 'TG', 'TO', 'TT', 'TN', 'TR', 'TM', 'TV',\n",
       "       'UG', 'UA', 'AE', 'GB', 'US', 'UY', 'UZ', 'VU', 'VE', 'VN', 'YE',\n",
       "       'ZM', 'ZW'], dtype=object)"
      ]
     },
     "execution_count": 12,
     "metadata": {},
     "output_type": "execute_result"
    }
   ],
   "source": [
    "df[\"Abbreviation\"].unique()"
   ]
  },
  {
   "cell_type": "markdown",
   "metadata": {},
   "source": [
    "6. Cuenta cuántas veces aparece cada valor único en la columna \"Abbreviation\"."
   ]
  },
  {
   "cell_type": "code",
   "execution_count": 17,
   "metadata": {},
   "outputs": [
    {
     "data": {
      "text/plain": [
       "189"
      ]
     },
     "execution_count": 17,
     "metadata": {},
     "output_type": "execute_result"
    }
   ],
   "source": [
    "len(df[\"Abbreviation\"].unique())"
   ]
  },
  {
   "cell_type": "markdown",
   "metadata": {},
   "source": [
    "7. Verifica si hay valores nulos en el conjunto de datos.\n"
   ]
  },
  {
   "cell_type": "code",
   "execution_count": null,
   "metadata": {},
   "outputs": [
    {
     "data": {
      "text/plain": [
       "Country                   0\n",
       "Density\\n(P/Km2)          0\n",
       "Abbreviation              7\n",
       "Agricultural Land( %)     7\n",
       "Land Area(Km2)            1\n",
       "Armed Forces size        24\n",
       "Birth Rate                6\n",
       "Calling Code              1\n",
       "Capital/Major City        3\n",
       "Co2-Emissions             7\n",
       "CPI                      17\n",
       "CPI Change (%)           16\n",
       "Currency-Code            15\n",
       "Fertility Rate            7\n",
       "Forested Area (%)         7\n",
       "Gasoline Price           20\n",
       "dtype: int64"
      ]
     },
     "execution_count": 19,
     "metadata": {},
     "output_type": "execute_result"
    }
   ],
   "source": [
    "df.isnull().sum()"
   ]
  },
  {
   "cell_type": "code",
   "execution_count": 20,
   "metadata": {},
   "outputs": [
    {
     "data": {
      "text/plain": [
       "(195, 16)"
      ]
     },
     "execution_count": 20,
     "metadata": {},
     "output_type": "execute_result"
    }
   ],
   "source": [
    "df.shape"
   ]
  },
  {
   "cell_type": "code",
   "execution_count": 21,
   "metadata": {},
   "outputs": [
    {
     "data": {
      "text/plain": [
       "195"
      ]
     },
     "execution_count": 21,
     "metadata": {},
     "output_type": "execute_result"
    }
   ],
   "source": [
    "df.shape[0]"
   ]
  },
  {
   "cell_type": "code",
   "execution_count": 24,
   "metadata": {},
   "outputs": [
    {
     "data": {
      "text/plain": [
       "Country                   0.00\n",
       "Density\\n(P/Km2)          0.00\n",
       "Abbreviation              3.59\n",
       "Agricultural Land( %)     3.59\n",
       "Land Area(Km2)            0.51\n",
       "Armed Forces size        12.31\n",
       "Birth Rate                3.08\n",
       "Calling Code              0.51\n",
       "Capital/Major City        1.54\n",
       "Co2-Emissions             3.59\n",
       "CPI                       8.72\n",
       "CPI Change (%)            8.21\n",
       "Currency-Code             7.69\n",
       "Fertility Rate            3.59\n",
       "Forested Area (%)         3.59\n",
       "Gasoline Price           10.26\n",
       "dtype: float64"
      ]
     },
     "execution_count": 24,
     "metadata": {},
     "output_type": "execute_result"
    }
   ],
   "source": [
    "round(df.isnull().sum()/ df.shape[0] * 100, 2)#para verlo en porcentaje"
   ]
  }
 ],
 "metadata": {
  "kernelspec": {
   "display_name": "promo49",
   "language": "python",
   "name": "python3"
  },
  "language_info": {
   "codemirror_mode": {
    "name": "ipython",
    "version": 3
   },
   "file_extension": ".py",
   "mimetype": "text/x-python",
   "name": "python",
   "nbconvert_exporter": "python",
   "pygments_lexer": "ipython3",
   "version": "3.11.11"
  }
 },
 "nbformat": 4,
 "nbformat_minor": 2
}
